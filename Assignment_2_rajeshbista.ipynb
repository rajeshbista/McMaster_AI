{
  "nbformat": 4,
  "nbformat_minor": 0,
  "metadata": {
    "colab": {
      "provenance": [],
      "include_colab_link": true
    },
    "kernelspec": {
      "name": "python3",
      "display_name": "Python 3"
    },
    "language_info": {
      "name": "python"
    }
  },
  "cells": [
    {
      "cell_type": "markdown",
      "metadata": {
        "id": "view-in-github",
        "colab_type": "text"
      },
      "source": [
        "<a href=\"https://colab.research.google.com/github/rajeshbista/McMaster_AI/blob/master/Assignment_2_rajeshbista.ipynb\" target=\"_parent\"><img src=\"https://colab.research.google.com/assets/colab-badge.svg\" alt=\"Open In Colab\"/></a>"
      ]
    },
    {
      "cell_type": "markdown",
      "source": [
        "## McMaster University, SFWR 4AI3 Artificial Intelligence\n",
        "# **Assignment 2**\n",
        "*Rajesh Bista (ID: 400438720)*\n",
        "\n",
        "---\n",
        "\n"
      ],
      "metadata": {
        "id": "12UltwDHm_Nr"
      }
    },
    {
      "cell_type": "markdown",
      "source": [
        "**Question:**\n",
        "Assume the following sample points for input x and output y in the data set where\n",
        "pi=(xi,yi).\n",
        "p1 = (6, 21); p2 = (10, 40); p3 = (12, 9); p4 = (18, 18); p5 = (20, 60); p6 = (25, 61)\n",
        "Write a program that answers the following questions. The program must be\n",
        "in .ipynb format, and runnable in colab. In the program use separate code blocks to\n",
        "answer each question. The answers must be printed when the program runs."
      ],
      "metadata": {
        "id": "HRyj3rT0f8u2"
      }
    },
    {
      "cell_type": "code",
      "source": [
        "# import libraries\n",
        "import numpy as np\n",
        "import matplotlib.pyplot as plt"
      ],
      "metadata": {
        "id": "IAVjdLInhn1l"
      },
      "execution_count": null,
      "outputs": []
    },
    {
      "cell_type": "code",
      "source": [
        "# Sample points extracting from given array\n",
        "X = np.array([6, 10, 12, 18, 20, 25])\n",
        "Y = np.array([21, 40, 9, 18, 60, 61]).reshape(-1, 1)"
      ],
      "metadata": {
        "id": "c4BSnUgWh3PZ"
      },
      "execution_count": null,
      "outputs": []
    },
    {
      "cell_type": "markdown",
      "source": [
        "**Q1.**\n",
        "Write the X and Y matrices needed in the Normal Equation."
      ],
      "metadata": {
        "id": "eY5DXyzRgNHO"
      }
    },
    {
      "cell_type": "code",
      "source": [
        "# adding bias term (column of ones) to make X, matrix of X with bias term\n",
        "\n",
        "X_matrix_with_bias = np.c_[np.ones((X.shape[0], 1)), X]\n",
        "\n",
        "print(\"X_matrix_with_bias:\\n\")\n",
        "print(X_matrix_with_bias)\n",
        "print(\"\\n Y_matrix:\\n\")\n",
        "print(Y)\n"
      ],
      "metadata": {
        "colab": {
          "base_uri": "https://localhost:8080/"
        },
        "id": "B1gpYofMg0bQ",
        "outputId": "a0a5a313-bf7c-4d65-9218-9c25ac09b80f"
      },
      "execution_count": null,
      "outputs": [
        {
          "output_type": "stream",
          "name": "stdout",
          "text": [
            "X_matrix_with_bias:\n",
            "\n",
            "[[ 1.  6.]\n",
            " [ 1. 10.]\n",
            " [ 1. 12.]\n",
            " [ 1. 18.]\n",
            " [ 1. 20.]\n",
            " [ 1. 25.]]\n",
            "\n",
            " Y_matrix:\n",
            "\n",
            "[[21]\n",
            " [40]\n",
            " [ 9]\n",
            " [18]\n",
            " [60]\n",
            " [61]]\n"
          ]
        }
      ]
    },
    {
      "cell_type": "markdown",
      "source": [
        "**Q2.** Calculate the parameters of the best linear model representing them."
      ],
      "metadata": {
        "id": "4v-ujc9ng20s"
      }
    },
    {
      "cell_type": "code",
      "source": [
        "# theta_best consists of the parameters (coefficients) of the liner model, which is calculated using Normal Equation.\n",
        "\n",
        "theta_best = np.linalg.inv(np.transpose(X_matrix_with_bias).dot(X_matrix_with_bias)).dot(X_matrix_with_bias.T).dot(Y)\n",
        "\n",
        "print(\"Theta (intercept and slope):\")\n",
        "print(theta_best)"
      ],
      "metadata": {
        "colab": {
          "base_uri": "https://localhost:8080/"
        },
        "id": "EAKeBP0B3EmN",
        "outputId": "bc2842e8-f912-4a90-e26e-ec6bb2796e63"
      },
      "execution_count": null,
      "outputs": [
        {
          "output_type": "stream",
          "name": "stdout",
          "text": [
            "Theta (intercept and slope):\n",
            "[[3.55525787]\n",
            " [2.06229069]]\n"
          ]
        }
      ]
    },
    {
      "cell_type": "markdown",
      "source": [
        "**Q3.** Estimate the output at these input points."
      ],
      "metadata": {
        "id": "3q-eQVaO3_CE"
      }
    },
    {
      "cell_type": "code",
      "source": [
        "# The estimated (predicted) output at these points is calculated by multiplying X_matrix_with_bias by theta_best values\n",
        "\n",
        "estimated_output_Y = X_matrix_with_bias.dot(theta_best)\n",
        "\n",
        "print(\"Estimated_Output_Y:\")\n",
        "print(estimated_output_Y)"
      ],
      "metadata": {
        "colab": {
          "base_uri": "https://localhost:8080/"
        },
        "id": "cv5s6Pco4KM3",
        "outputId": "bfc3e23d-c74e-4247-8bc1-85c8d7f5d78f"
      },
      "execution_count": null,
      "outputs": [
        {
          "output_type": "stream",
          "name": "stdout",
          "text": [
            "Estimated_Output_Y:\n",
            "[[15.92900201]\n",
            " [24.17816477]\n",
            " [28.30274615]\n",
            " [40.67649029]\n",
            " [44.80107167]\n",
            " [55.11252512]]\n"
          ]
        }
      ]
    },
    {
      "cell_type": "markdown",
      "source": [
        "**Q4.** Calculate the MSE cost function for this set of data."
      ],
      "metadata": {
        "id": "lWFk03shE9Os"
      }
    },
    {
      "cell_type": "code",
      "source": [
        "mse = ((Y - estimated_output_Y) ** 2).mean()\n",
        "print(\"Mean Squared Error (MSE) cost function:\")\n",
        "print(mse)"
      ],
      "metadata": {
        "id": "uKGjeFCGFCGU",
        "colab": {
          "base_uri": "https://localhost:8080/"
        },
        "outputId": "5bdb2a3e-ec93-4a58-8c03-858d28f742a3"
      },
      "execution_count": null,
      "outputs": [
        {
          "output_type": "stream",
          "name": "stdout",
          "text": [
            "Mean Squared Error (MSE) cost function:\n",
            "238.08908238446085\n"
          ]
        }
      ]
    },
    {
      "cell_type": "markdown",
      "source": [
        "**Q5.** Plot the actual (ground truth) output (output given for each sample point in\n",
        "the data set) and the estimated output versus input in one figure. Use a\n",
        "scatter plot and also use two different colors for the actual and estimated\n",
        "data points."
      ],
      "metadata": {
        "id": "uDj8lYxrTB-8"
      }
    },
    {
      "cell_type": "code",
      "source": [
        "plt.scatter(X, Y, label=\"Actual\", color=\"black\")\n",
        "plt.scatter(X, estimated_output_Y, label=\"Estimated\", color=\"green\")\n",
        "\n",
        "# Plot the linear regression model line\n",
        "bestfit_line = X_matrix_with_bias.dot(theta_best)\n",
        "plt.plot(X, bestfit_line, label=\"Linear Regression Model\", color=\"red\")\n",
        "\n",
        "plt.xlabel(\"Input_X\")\n",
        "plt.ylabel(\"Output_Y\")\n",
        "plt.legend()\n",
        "plt.title(\"Actual Vs. Estimated Output\")\n",
        "plt.grid(True)\n",
        "plt.show()\n"
      ],
      "metadata": {
        "colab": {
          "base_uri": "https://localhost:8080/",
          "height": 472
        },
        "id": "K7xA3lWzgWkn",
        "outputId": "1f090419-d1a2-4444-c083-1759c282ecb9"
      },
      "execution_count": null,
      "outputs": [
        {
          "output_type": "display_data",
          "data": {
            "text/plain": [
              "<Figure size 640x480 with 1 Axes>"
            ],
            "image/png": "[encoded data removed]"
          },
          "metadata": {}
        }
      ]
    }
  ]
}